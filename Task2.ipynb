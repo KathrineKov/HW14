{
 "cells": [
  {
   "cell_type": "code",
   "execution_count": 11,
   "id": "cdd6646c-1380-4ace-b2c3-2cbe6301ad71",
   "metadata": {
    "tags": []
   },
   "outputs": [
    {
     "name": "stdout",
     "output_type": "stream",
     "text": [
      "9\n",
      "17\n",
      "24\n",
      "30\n",
      "35\n",
      "39\n",
      "42\n",
      "44\n",
      "45\n",
      "45\n",
      "55\n",
      "64\n",
      "72\n",
      "79\n",
      "85\n",
      "90\n",
      "94\n",
      "97\n",
      "99\n",
      "110\n",
      "120\n",
      "129\n",
      "137\n",
      "144\n",
      "150\n",
      "155\n",
      "159\n",
      "171\n",
      "182\n",
      "192\n",
      "201\n",
      "209\n",
      "216\n",
      "222\n",
      "235\n",
      "247\n",
      "258\n",
      "268\n",
      "277\n",
      "285\n",
      "299\n",
      "312\n",
      "324\n",
      "335\n",
      "345\n",
      "360\n",
      "374\n",
      "387\n",
      "399\n",
      "415\n",
      "430\n",
      "444\n",
      "461\n",
      "477\n",
      "495\n"
     ]
    }
   ],
   "source": [
    "#2.1 What is the time complexity:\n",
    "n = 10\n",
    "a = 0;\n",
    "for i in range(n):\n",
    "    for j in reversed(range(i,n)):\n",
    "        a = a + i + j\n",
    "        print(a)"
   ]
  },
  {
   "cell_type": "raw",
   "id": "5e5ba1bb-9a48-4aa4-b40b-bb45350e7c1c",
   "metadata": {
    "tags": []
   },
   "source": [
    "The outer loop runs n times, and the inner loop runs n−i times\n",
    "The arithmetic progression reduces to (n(n+1))/2=O(n^2)"
   ]
  },
  {
   "cell_type": "code",
   "execution_count": 12,
   "id": "94fc17d2-6a64-4a69-ab89-aa40c6c9a504",
   "metadata": {
    "tags": []
   },
   "outputs": [
    {
     "name": "stdout",
     "output_type": "stream",
     "text": [
      "0\n",
      "2\n",
      "4\n",
      "6\n",
      "8\n",
      "10\n",
      "12\n",
      "14\n",
      "16\n",
      "18\n"
     ]
    }
   ],
   "source": [
    "#2.2 What is the time complexity:\n",
    "for i in range(n):\n",
    "    i*=2\n",
    "    print(i)"
   ]
  },
  {
   "cell_type": "raw",
   "id": "c1eaef22-6604-4def-8116-dd27d01c6556",
   "metadata": {
    "tags": []
   },
   "source": [
    "The loop runs n times, and the operation i *= 2 doesn't affect the loop iterations\n",
    "Time complexity is O(n)"
   ]
  },
  {
   "cell_type": "code",
   "execution_count": 20,
   "id": "ac526e92-849b-45d0-a1cd-d3759b606772",
   "metadata": {
    "tags": []
   },
   "outputs": [
    {
     "name": "stdout",
     "output_type": "stream",
     "text": [
      "0\n"
     ]
    }
   ],
   "source": [
    "#2.3 What is the time complexity:\n",
    "def algo(x):\n",
    "    print(min(x)+5)\n",
    "\n",
    "algo([4, 5, 6, 8, -5, 10, 12])"
   ]
  },
  {
   "cell_type": "raw",
   "id": "e1e8c56c-eb14-4a30-83d2-4dacfb61d0ce",
   "metadata": {
    "tags": []
   },
   "source": [
    "The min() function scans through the entire list, which takes O(n)\n",
    "Total time complexity is O(n)"
   ]
  },
  {
   "cell_type": "code",
   "execution_count": 21,
   "id": "cfb7d084-3931-4762-b4a2-a544ad1b7926",
   "metadata": {
    "tags": []
   },
   "outputs": [
    {
     "name": "stdout",
     "output_type": "stream",
     "text": [
      "0 0 0\n",
      "0 0 1\n",
      "0 0 2\n",
      "0 1 0\n",
      "0 1 1\n",
      "0 1 2\n",
      "0 2 0\n",
      "0 2 1\n",
      "0 2 2\n",
      "1 0 0\n",
      "1 0 1\n",
      "1 0 2\n",
      "1 1 0\n",
      "1 1 1\n",
      "1 1 2\n",
      "1 2 0\n",
      "1 2 1\n",
      "1 2 2\n",
      "2 0 0\n",
      "2 0 1\n",
      "2 0 2\n",
      "2 1 0\n",
      "2 1 1\n",
      "2 1 2\n",
      "2 2 0\n",
      "2 2 1\n",
      "2 2 2\n"
     ]
    }
   ],
   "source": [
    "#2.4 Write a simple dummy code with time complexity O(n3)\n",
    "def cubic_algorithm(n):\n",
    "    for i in range(n):\n",
    "        for j in range(n):\n",
    "            for k in range(n):\n",
    "                print(i, j, k)\n",
    "\n",
    "cubic_algorithm(3)"
   ]
  },
  {
   "cell_type": "raw",
   "id": "6070af96-fafa-4141-863e-eaaf914cbe37",
   "metadata": {},
   "source": [
    "Three nested loops, each running n times, result in time complexity O(n^3)"
   ]
  }
 ],
 "metadata": {
  "kernelspec": {
   "display_name": "Python 3 (ipykernel)",
   "language": "python",
   "name": "python3"
  },
  "language_info": {
   "codemirror_mode": {
    "name": "ipython",
    "version": 3
   },
   "file_extension": ".py",
   "mimetype": "text/x-python",
   "name": "python",
   "nbconvert_exporter": "python",
   "pygments_lexer": "ipython3",
   "version": "3.10.8"
  }
 },
 "nbformat": 4,
 "nbformat_minor": 5
}
